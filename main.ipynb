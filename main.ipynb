{
 "cells": [
  {
   "cell_type": "markdown",
   "id": "aa820952",
   "metadata": {},
   "source": [
    "# Road Signs CNN"
   ]
  },
  {
   "cell_type": "markdown",
   "id": "d389a6f9",
   "metadata": {},
   "source": [
    "## Setup"
   ]
  },
  {
   "cell_type": "code",
   "execution_count": null,
   "id": "d81d72aa",
   "metadata": {},
   "outputs": [],
   "source": [
    "import pickle\n",
    "import random\n",
    "from pathlib import Path\n",
    "\n",
    "import numpy as np\n",
    "import numpy.typing as npt\n",
    "import torch\n",
    "import torch.nn as nn\n",
    "import torch.nn.functional as F\n",
    "from matplotlib import pyplot as plt\n",
    "from PIL import Image\n",
    "from sklearn.metrics import confusion_matrix\n",
    "from torch.utils.data import DataLoader, Dataset\n",
    "from torchvision import transforms"
   ]
  },
  {
   "cell_type": "code",
   "execution_count": null,
   "id": "cc37cce2",
   "metadata": {},
   "outputs": [],
   "source": [
    "torch.manual_seed(2001)\n",
    "\n",
    "device = \"cuda\" if torch.cuda.is_available() else \"cpu\"\n",
    "print(f\"[*] {device=}\")\n",
    "\n",
    "DATA_ROOT = Path(\"data\")\n",
    "LEARNING_RATE = 1e-4"
   ]
  },
  {
   "cell_type": "markdown",
   "id": "e3e73917",
   "metadata": {},
   "source": [
    "## Load the data"
   ]
  },
  {
   "cell_type": "code",
   "execution_count": null,
   "id": "e6bda453",
   "metadata": {},
   "outputs": [],
   "source": [
    "sign_names: npt.NDArray[np.string_]\n",
    "_, sign_names = np.genfromtxt(\n",
    "    DATA_ROOT / \"signname.csv\", delimiter=\",\", skip_header=True, dtype=\"str\"\n",
    ").T\n",
    "\n",
    "\n",
    "def load_data(filename: str):\n",
    "    metadata = pickle.load(open(DATA_ROOT / filename, \"rb\"))\n",
    "    images: npt.NDArray[np.int64] = metadata[\"features\"]\n",
    "    labels: npt.NDArray[np.int64] = metadata[\"labels\"]\n",
    "    return images, labels"
   ]
  },
  {
   "cell_type": "code",
   "execution_count": null,
   "id": "7a15ba3b",
   "metadata": {},
   "outputs": [],
   "source": [
    "train_images, train_labels = load_data(\"train.p\")\n",
    "test_images, test_labels = load_data(\"test.p\")\n",
    "valid_images, valid_labels = load_data(\"valid.p\")"
   ]
  },
  {
   "cell_type": "code",
   "execution_count": null,
   "id": "c037b698",
   "metadata": {
    "lines_to_next_cell": 2
   },
   "outputs": [],
   "source": [
    "fig, axes = plt.subplots(ncols=3, nrows=3)\n",
    "axes = axes.reshape(-1)\n",
    "\n",
    "random_images = list(zip(test_images.copy(), test_labels.copy()))\n",
    "random.shuffle(random_images)\n",
    "random_images = random_images[: len(axes)]\n",
    "\n",
    "for (image, label), ax in zip(random_images, axes):\n",
    "    ax.imshow(image)\n",
    "    ax.set_title(sign_names[label])\n",
    "\n",
    "fig.tight_layout()\n",
    "# plt.show()"
   ]
  },
  {
   "cell_type": "markdown",
   "id": "53f37d56",
   "metadata": {
    "lines_to_next_cell": 2
   },
   "source": [
    "## Create custom data loaders"
   ]
  },
  {
   "cell_type": "code",
   "execution_count": null,
   "id": "03965532",
   "metadata": {},
   "outputs": [],
   "source": [
    "class RoadSignsDataset(Dataset):\n",
    "    def __init__(self, images, labels):\n",
    "        self.images = images\n",
    "        self.labels = labels\n",
    "\n",
    "    def __len__(self):\n",
    "        return len(self.labels)\n",
    "\n",
    "    def __getitem__(self, idx):\n",
    "        transform = transforms.Compose(\n",
    "            [\n",
    "                transforms.ToTensor(),\n",
    "                transforms.Normalize(\n",
    "                    # ImageNet commonly used mean and std values\n",
    "                    mean=[0.485, 0.456, 0.406],\n",
    "                    std=[0.229, 0.224, 0.225],\n",
    "                ),\n",
    "            ]\n",
    "        )\n",
    "        image = transform(Image.fromarray(self.images[idx]))\n",
    "        label = self.labels[idx]\n",
    "        return image, label"
   ]
  },
  {
   "cell_type": "code",
   "execution_count": null,
   "id": "760b8c36",
   "metadata": {},
   "outputs": [],
   "source": [
    "class ConvDownBlock(nn.Module):\n",
    "    def __init__(self, *, inch, outch, kern, pad):\n",
    "        super(ConvDownBlock, self).__init__()\n",
    "\n",
    "        self.conv = nn.Conv2d(\n",
    "            in_channels=inch,\n",
    "            out_channels=outch,\n",
    "            kernel_size=kern,\n",
    "            padding=pad,\n",
    "        )\n",
    "        self.bn = nn.BatchNorm2d(num_features=outch)\n",
    "        self.maxpool = nn.MaxPool2d(kernel_size=kern)\n",
    "\n",
    "    def forward(self, x):\n",
    "        x = self.conv(x)\n",
    "        x = self.bn(x)\n",
    "        x = F.relu(x)\n",
    "        x = self.maxpool(x)\n",
    "        return x"
   ]
  },
  {
   "cell_type": "code",
   "execution_count": null,
   "id": "f70d78d0",
   "metadata": {},
   "outputs": [],
   "source": [
    "train_dl = DataLoader(\n",
    "    RoadSignsDataset(images=train_images, labels=train_labels),\n",
    "    batch_size=32,\n",
    "    shuffle=True,\n",
    ")\n",
    "test_dl = DataLoader(\n",
    "    RoadSignsDataset(images=test_images, labels=test_labels),\n",
    "    batch_size=2000,\n",
    "    shuffle=False,\n",
    ")\n",
    "valid_dl = DataLoader(\n",
    "    RoadSignsDataset(images=valid_images, labels=valid_labels),\n",
    "    batch_size=2000,\n",
    "    shuffle=False,\n",
    ")"
   ]
  },
  {
   "cell_type": "code",
   "execution_count": null,
   "id": "88da63ac",
   "metadata": {
    "lines_to_next_cell": 2
   },
   "outputs": [],
   "source": [
    "db = ConvDownBlock(inch=3, outch=8, kern=2, pad=1)\n",
    "x = torch.randn(10, 3, 32, 32)\n",
    "x.shape, db(x).shape"
   ]
  },
  {
   "cell_type": "code",
   "execution_count": null,
   "id": "6a1a9892",
   "metadata": {},
   "outputs": [],
   "source": [
    "model = nn.Sequential(\n",
    "    # (*, 3, 32, 32) -> (*, 8, 16, 16)\n",
    "    ConvDownBlock(inch=3, outch=8, kern=2, pad=1),\n",
    "    # -> (*, 16, 8, 8)\n",
    "    ConvDownBlock(inch=8, outch=16, kern=2, pad=1),\n",
    "    # -> (*, 32, 4, 4)\n",
    "    ConvDownBlock(inch=16, outch=32, kern=2, pad=1),\n",
    "    #\n",
    "    nn.Flatten(),\n",
    "    nn.Dropout(0.2),\n",
    "    nn.Linear(in_features=32 * 4 * 4, out_features=128),\n",
    "    nn.ReLU(),\n",
    "    nn.Linear(in_features=128, out_features=len(train_dl)),\n",
    ")"
   ]
  },
  {
   "cell_type": "code",
   "execution_count": null,
   "id": "d4b387a8",
   "metadata": {},
   "outputs": [],
   "source": [
    "model(torch.randn(3, 3, 32, 32))"
   ]
  },
  {
   "cell_type": "code",
   "execution_count": null,
   "id": "662a0798",
   "metadata": {},
   "outputs": [],
   "source": [
    "loss_fn = torch.nn.CrossEntropyLoss()\n",
    "opt = torch.optim.Adam(model.parameters(), lr=LEARNING_RATE)"
   ]
  },
  {
   "cell_type": "code",
   "execution_count": null,
   "id": "dc9731b7",
   "metadata": {},
   "outputs": [],
   "source": [
    "def train_loop():\n",
    "    total_loss = 0\n",
    "\n",
    "    for X, y in train_dl:\n",
    "        opt.zero_grad()\n",
    "\n",
    "        y_pred = model(X)\n",
    "\n",
    "        loss = loss_fn(y_pred, y)\n",
    "\n",
    "        loss.backward()\n",
    "        opt.step()\n",
    "        total_loss += loss.item()\n",
    "\n",
    "    return total_loss"
   ]
  },
  {
   "cell_type": "code",
   "execution_count": null,
   "id": "50323eea",
   "metadata": {},
   "outputs": [],
   "source": [
    "loss_history = []"
   ]
  },
  {
   "cell_type": "code",
   "execution_count": null,
   "id": "9eec5e7b",
   "metadata": {},
   "outputs": [],
   "source": [
    "epochs = 101\n",
    "for epoch in range(epochs):\n",
    "    loss = train_loop()\n",
    "    loss_history.append(loss)\n",
    "    if not epoch % 10:\n",
    "        print(f\"Epoch: {epoch} loss: {loss}\")"
   ]
  },
  {
   "cell_type": "code",
   "execution_count": null,
   "id": "bd1f8558",
   "metadata": {},
   "outputs": [],
   "source": [
    "plt.plot(loss_history)\n",
    "plt.show()"
   ]
  },
  {
   "cell_type": "code",
   "execution_count": null,
   "id": "55c809d9",
   "metadata": {},
   "outputs": [],
   "source": [
    "def accuracy(dataloader):\n",
    "    correct = 0\n",
    "    all = len(dataloader.dataset)\n",
    "\n",
    "    with torch.no_grad():\n",
    "        for X, y in dataloader:\n",
    "            y_pred = model(X).argmax(dim=1)\n",
    "            correct += (y_pred == y).sum().item()\n",
    "    return correct / all\n",
    "\n",
    "\n",
    "accuracy(train_dl), accuracy(test_dl)"
   ]
  }
 ],
 "metadata": {
  "jupytext": {
   "cell_metadata_filter": "-all",
   "main_language": "python",
   "notebook_metadata_filter": "-all"
  }
 },
 "nbformat": 4,
 "nbformat_minor": 5
}
